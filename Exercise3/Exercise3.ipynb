{
  "nbformat": 4,
  "nbformat_minor": 0,
  "metadata": {
    "colab": {
      "name": "Exercise3.ipynb",
      "provenance": [],
      "collapsed_sections": []
    },
    "kernelspec": {
      "name": "python3",
      "display_name": "Python 3"
    }
  },
  "cells": [
    {
      "cell_type": "markdown",
      "metadata": {
        "id": "d8ahoTHxBW82",
        "colab_type": "text"
      },
      "source": [
        "# Exercise 1 (Learning in neural networks)\n",
        "\n",
        "a) Explain the following terms related to neural networks in one to sentences. If you need more sentences this is fine but keep as precise as possible. \n",
        "\n",
        "*   Learning in neural networks\n",
        "*   Training set\n",
        "*   Supervised Learning\n",
        "*   Unsupervised Learning\n",
        "*   Online (incremental) learning\n",
        "*   Offline (batch) learning\n",
        "*   Training error\n",
        "* Generalisation error\n",
        "* Cross-validation\n",
        "\n",
        "\n",
        "b) Name and briefly describe at least two methods to avoid overfitting when training neural networks."
      ]
    },
    {
      "cell_type": "markdown",
      "metadata": {
        "id": "dHDU9m2hChSn",
        "colab_type": "text"
      },
      "source": [
        "# Exercise 2 \n",
        "\n",
        "TODO"
      ]
    },
    {
      "cell_type": "markdown",
      "metadata": {
        "id": "V0dZkCh_Cm2n",
        "colab_type": "text"
      },
      "source": [
        "# Exercise 3 (Single-layer perceptron, gradient learning, 2dim. classification)\n",
        "\n",
        "The goal of this exercise is to solve a two-dimensional binary classification problem with gradient learning, using tensorflow.\n",
        "Since the problem is two-dimensional, the perceptron has 2 inputs. Since the classification problem is binary, there is one output.\n",
        "\n",
        "The (two-dimensional) inputs and  corresponding (1-dimensional) for training are provided below.\n",
        "\n",
        "the corresponding (1-dimensional) targets in the file exercise3b_target. To visualize\n",
        "the results, the training samples corresponding to class 1 (output label “0”) have separately\n",
        "been saved in the file exercise3b_class1.txt, the training samples corresponding to\n",
        "class 2 (output label “1”) in the file exercise3b_class2.txt. The gradient learning\n",
        "algorithm – using the logistic() activation function – shall be used to provide a solution\n",
        "to this classification problem. Note that due to the logistic() activation function, the\n",
        "output of the perceptron is a real value in [0,1]:\n",
        "To assign a binary class label (either 0 or 1) to an input example, the perceptron output y can\n",
        "be passed through the Heaviside function [ y  0.5 ] to yield a binary output ybinary. Then,\n",
        "any perceptron output between 0.5 and 1 is closer to 1 than to 0 and will be assigned the class\n",
        "label “1”. Conversely, any perceptron output between 0 and 0.5 is closer to 0 than to 1 and\n",
        "will be assigned the class label “0” (see also the scikit learn documentation, “Neural network\n",
        "models (supervised), Mathematical formulation)”. As usual, denote the weights of the\n",
        "perceptron w1 and w2 and the bias w0 =  .\n",
        "a) Using the above-mentioned post-processing step [ y  0.5 ] applied to the perceptron\n",
        "output y, show that the decision boundary separating the inputs x=( x1 , x2 ) assigned to\n",
        "class label “1” from those inputs assigned to class label “0” is given by a straight line in\n",
        "two-dimensional space corresponding to the equation (see lines 83 and 108 in file\n",
        "exercise3b.py):"
      ]
    },
    {
      "cell_type": "markdown",
      "metadata": {
        "id": "mJfFfZO-BIoz",
        "colab_type": "text"
      },
      "source": [
        "\n",
        "Load Tensorflow"
      ]
    },
    {
      "cell_type": "code",
      "metadata": {
        "id": "B6tA_K3-BAyw",
        "colab_type": "code",
        "colab": {
          "base_uri": "https://localhost:8080/",
          "height": 35
        },
        "outputId": "3cd9e8cb-cd35-4bf9-be4f-7b467de3666c"
      },
      "source": [
        "%tensorflow_version 2.x\n",
        "import tensorflow as tf"
      ],
      "execution_count": 1,
      "outputs": [
        {
          "output_type": "stream",
          "text": [
            "TensorFlow 2.x selected.\n"
          ],
          "name": "stdout"
        }
      ]
    },
    {
      "cell_type": "markdown",
      "metadata": {
        "id": "iF1QcuBwBFdW",
        "colab_type": "text"
      },
      "source": [
        ""
      ]
    }
  ]
}